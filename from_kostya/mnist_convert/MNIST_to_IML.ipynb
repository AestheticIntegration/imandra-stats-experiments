{
 "cells": [
  {
   "cell_type": "code",
   "execution_count": 2,
   "metadata": {},
   "outputs": [
    {
     "name": "stdout",
     "output_type": "stream",
     "text": [
      "Populating the interactive namespace from numpy and matplotlib\n"
     ]
    }
   ],
   "source": [
    "%pylab inline"
   ]
  },
  {
   "cell_type": "code",
   "execution_count": 7,
   "metadata": {},
   "outputs": [
    {
     "name": "stdout",
     "output_type": "stream",
     "text": [
      "Epoch 1/5\n",
      "60000/60000 [==============================] - 2s 33us/sample - loss: 0.2955 - acc: 0.9150\n",
      "Epoch 2/5\n",
      "60000/60000 [==============================] - 2s 32us/sample - loss: 0.1427 - acc: 0.9574\n",
      "Epoch 3/5\n",
      "60000/60000 [==============================] - 2s 32us/sample - loss: 0.1062 - acc: 0.9678\n",
      "Epoch 4/5\n",
      "60000/60000 [==============================] - 2s 32us/sample - loss: 0.0873 - acc: 0.9724\n",
      "Epoch 5/5\n",
      "60000/60000 [==============================] - 2s 32us/sample - loss: 0.0740 - acc: 0.9772\n",
      "10000/10000 [==============================] - 0s 18us/sample - loss: 0.0700 - acc: 0.9772\n"
     ]
    },
    {
     "data": {
      "text/plain": [
       "[0.07004223920041695, 0.9772]"
      ]
     },
     "execution_count": 7,
     "metadata": {},
     "output_type": "execute_result"
    }
   ],
   "source": [
    "import tensorflow as tf\n",
    "mnist = tf.keras.datasets.mnist\n",
    "\n",
    "(x_train, y_train),(x_test, y_test) = mnist.load_data()\n",
    "x_train, x_test = x_train / 255.0, x_test / 255.0\n",
    "\n",
    "model = tf.keras.models.Sequential([\n",
    "  tf.keras.layers.Flatten(input_shape=(28, 28)),\n",
    "  tf.keras.layers.Dense(128, activation='relu'),\n",
    "  tf.keras.layers.Dropout(0.2),\n",
    "  tf.keras.layers.Dense(10, activation='softmax')\n",
    "])\n",
    "\n",
    "model.compile(optimizer='adam',\n",
    "              loss='sparse_categorical_crossentropy',\n",
    "              metrics=['accuracy'])\n",
    "\n",
    "model.fit(x_train, y_train, epochs=5)\n",
    "model.evaluate(x_test, y_test)"
   ]
  },
  {
   "cell_type": "code",
   "execution_count": 71,
   "metadata": {},
   "outputs": [],
   "source": [
    "_ , nrows , ncols = model.input_shape\n",
    "\n",
    "def mkbod(lst):\n",
    "    b = \"\\n\".join(map(lambda x: \"  ; \" + x, lst))\n",
    "    b = \"  {\" + b[3:] + \"\\n  }\"\n",
    "    return b\n",
    "\n",
    "code = \"type row = \\n\"\n",
    "code += mkbod([\"p{:02} : real\".format(c) for c in range(ncols)])\n",
    "code += \"\\n\\n\"\n",
    "\n",
    "code += \"type image = \\n\"\n",
    "code += mkbod([\"r{:02} : row\".format(c) for c in range(nrows)])\n",
    "\n",
    "code += \"\\n\\n\"\n",
    "code += \"type output = \\n\"\n",
    "code += mkbod([\"out{} : real\".format(i) for i in range(10)])\n",
    "\n",
    "typedecls = code\n",
    "\n",
    "import itertools\n",
    "input_flat_vector = \\\n",
    "    [ \"x.r{:02}.p{:02}\".format(r,c) \n",
    "     for r,c in itertools.product(range(nrows), range(ncols)) ]"
   ]
  },
  {
   "cell_type": "code",
   "execution_count": 72,
   "metadata": {},
   "outputs": [
    {
     "name": "stdout",
     "output_type": "stream",
     "text": [
      "type row = \n",
      "  { p00 : real\n",
      "  ; p01 : real\n",
      "  ; p02 : real\n",
      "  ; p03 : real\n",
      "  ; p04 : real\n",
      "  ; p05 : real\n",
      "  ; p06 : real\n",
      "  ; p07 : real\n",
      "  ; p08 : real\n",
      "  ; p09 : real\n",
      "  ; p10 : real\n",
      "  ; p11 : real\n",
      "  ; p12 : real\n",
      "  ; p13 : real\n",
      "  ; p14 : real\n",
      "  ; p15 : real\n",
      "  ; p16 : real\n",
      "  ; p17 : real\n",
      "  ; p18 : real\n",
      "  ; p19 : real\n",
      "  ; p20 : real\n",
      "  ; p21 : real\n",
      "  ; p22 : real\n",
      "  ; p23 : real\n",
      "  ; p24 : real\n",
      "  ; p25 : real\n",
      "  ; p26 : real\n",
      "  ; p27 : real\n",
      "  }\n",
      "\n",
      "type image = \n",
      "  { r00 : row\n",
      "  ; r01 : row\n",
      "  ; r02 : row\n",
      "  ; r03 : row\n",
      "  ; r04 : row\n",
      "  ; r05 : row\n",
      "  ; r06 : row\n",
      "  ; r07 : row\n",
      "  ; r08 : row\n",
      "  ; r09 : row\n",
      "  ; r10 : row\n",
      "  ; r11 : row\n",
      "  ; r12 : row\n",
      "  ; r13 : row\n",
      "  ; r14 : row\n",
      "  ; r15 : row\n",
      "  ; r16 : row\n",
      "  ; r17 : row\n",
      "  ; r18 : row\n",
      "  ; r19 : row\n",
      "  ; r20 : row\n",
      "  ; r21 : row\n",
      "  ; r22 : row\n",
      "  ; r23 : row\n",
      "  ; r24 : row\n",
      "  ; r25 : row\n",
      "  ; r26 : row\n",
      "  ; r27 : row\n",
      "  }\n",
      "\n",
      "type output = \n",
      "  { out0 : real\n",
      "  ; out1 : real\n",
      "  ; out2 : real\n",
      "  ; out3 : real\n",
      "  ; out4 : real\n",
      "  ; out5 : real\n",
      "  ; out6 : real\n",
      "  ; out7 : real\n",
      "  ; out8 : real\n",
      "  ; out9 : real\n",
      "  }\n"
     ]
    }
   ],
   "source": [
    "print(typedecls)"
   ]
  },
  {
   "cell_type": "code",
   "execution_count": 81,
   "metadata": {},
   "outputs": [],
   "source": [
    "# obtain weights - generate iml\n",
    "weights = model.get_weights()\n",
    "\n",
    "code = [\"let nn x = \"]\n",
    "\n",
    "# First layer\n",
    "for j in range(weights[0].shape[1]):\n",
    "    letin = []\n",
    "    for i in range(weights[0].shape[0]):\n",
    "        letin.append(\"({:.3}) * {}\".format(weights[0][i][j],input_flat_vector[i]))\n",
    "    letin.append(\"({:.3})\".format(weights[1][j]))\n",
    "    letin = \"  let a{:03} = relu @@ \".format(j) + \" + \".join(letin) + \"  in\"\n",
    "    code.append(letin)\n",
    "\n",
    "# Second layer\n",
    "for j in range(weights[2].shape[1]):\n",
    "    letin = []\n",
    "    for i in range(weights[2].shape[0]):\n",
    "        letin.append(\"({:.3}) * {}\".format(weights[2][i][j],\"a{:03}\".format(i)))\n",
    "    letin.append(\"({:.3})\".format(weights[3][j]))\n",
    "    letin = \"  let out{} = \".format(j) + \" + \".join(letin) + \"  in\"\n",
    "    code.append(letin)\n",
    "    \n",
    "# Output\n",
    "code.append(\"  { \" + \";\".join([\"out{}\".format(i) for i in range(10)]) + \" }\")\n"
   ]
  },
  {
   "cell_type": "code",
   "execution_count": 84,
   "metadata": {},
   "outputs": [],
   "source": [
    "with open(\"nn.iml\",\"w\") as f:\n",
    "    f.write(\"open Real\")\n",
    "    f.write(\"let relu x = if x > 0.0 then x else 0.0\")\n",
    "    \n",
    "    f.write(typedecls)\n",
    "    f.write(\"\\n\\n\")\n",
    "    f.write(\"\\n\".join(code))"
   ]
  },
  {
   "cell_type": "code",
   "execution_count": null,
   "metadata": {},
   "outputs": [],
   "source": []
  }
 ],
 "metadata": {
  "kernelspec": {
   "display_name": "Python 3",
   "language": "python",
   "name": "python3"
  },
  "language_info": {
   "codemirror_mode": {
    "name": "ipython",
    "version": 3
   },
   "file_extension": ".py",
   "mimetype": "text/x-python",
   "name": "python",
   "nbconvert_exporter": "python",
   "pygments_lexer": "ipython3",
   "version": "3.6.8"
  }
 },
 "nbformat": 4,
 "nbformat_minor": 2
}
