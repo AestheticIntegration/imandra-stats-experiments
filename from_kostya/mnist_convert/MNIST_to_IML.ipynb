{
 "cells": [
  {
   "cell_type": "code",
   "execution_count": 1,
   "metadata": {},
   "outputs": [
    {
     "name": "stdout",
     "output_type": "stream",
     "text": [
      "Populating the interactive namespace from numpy and matplotlib\n"
     ]
    }
   ],
   "source": [
    "%pylab inline"
   ]
  },
  {
   "cell_type": "code",
   "execution_count": 2,
   "metadata": {},
   "outputs": [
    {
     "name": "stderr",
     "output_type": "stream",
     "text": [
      "/home/kanishev/.local/lib/python3.6/site-packages/tensorflow/python/framework/dtypes.py:516: FutureWarning: Passing (type, 1) or '1type' as a synonym of type is deprecated; in a future version of numpy, it will be understood as (type, (1,)) / '(1,)type'.\n",
      "  _np_qint8 = np.dtype([(\"qint8\", np.int8, 1)])\n",
      "/home/kanishev/.local/lib/python3.6/site-packages/tensorflow/python/framework/dtypes.py:517: FutureWarning: Passing (type, 1) or '1type' as a synonym of type is deprecated; in a future version of numpy, it will be understood as (type, (1,)) / '(1,)type'.\n",
      "  _np_quint8 = np.dtype([(\"quint8\", np.uint8, 1)])\n",
      "/home/kanishev/.local/lib/python3.6/site-packages/tensorflow/python/framework/dtypes.py:518: FutureWarning: Passing (type, 1) or '1type' as a synonym of type is deprecated; in a future version of numpy, it will be understood as (type, (1,)) / '(1,)type'.\n",
      "  _np_qint16 = np.dtype([(\"qint16\", np.int16, 1)])\n",
      "/home/kanishev/.local/lib/python3.6/site-packages/tensorflow/python/framework/dtypes.py:519: FutureWarning: Passing (type, 1) or '1type' as a synonym of type is deprecated; in a future version of numpy, it will be understood as (type, (1,)) / '(1,)type'.\n",
      "  _np_quint16 = np.dtype([(\"quint16\", np.uint16, 1)])\n",
      "/home/kanishev/.local/lib/python3.6/site-packages/tensorflow/python/framework/dtypes.py:520: FutureWarning: Passing (type, 1) or '1type' as a synonym of type is deprecated; in a future version of numpy, it will be understood as (type, (1,)) / '(1,)type'.\n",
      "  _np_qint32 = np.dtype([(\"qint32\", np.int32, 1)])\n",
      "/home/kanishev/.local/lib/python3.6/site-packages/tensorflow/python/framework/dtypes.py:525: FutureWarning: Passing (type, 1) or '1type' as a synonym of type is deprecated; in a future version of numpy, it will be understood as (type, (1,)) / '(1,)type'.\n",
      "  np_resource = np.dtype([(\"resource\", np.ubyte, 1)])\n",
      "/home/kanishev/.local/lib/python3.6/site-packages/tensorboard/compat/tensorflow_stub/dtypes.py:541: FutureWarning: Passing (type, 1) or '1type' as a synonym of type is deprecated; in a future version of numpy, it will be understood as (type, (1,)) / '(1,)type'.\n",
      "  _np_qint8 = np.dtype([(\"qint8\", np.int8, 1)])\n",
      "/home/kanishev/.local/lib/python3.6/site-packages/tensorboard/compat/tensorflow_stub/dtypes.py:542: FutureWarning: Passing (type, 1) or '1type' as a synonym of type is deprecated; in a future version of numpy, it will be understood as (type, (1,)) / '(1,)type'.\n",
      "  _np_quint8 = np.dtype([(\"quint8\", np.uint8, 1)])\n",
      "/home/kanishev/.local/lib/python3.6/site-packages/tensorboard/compat/tensorflow_stub/dtypes.py:543: FutureWarning: Passing (type, 1) or '1type' as a synonym of type is deprecated; in a future version of numpy, it will be understood as (type, (1,)) / '(1,)type'.\n",
      "  _np_qint16 = np.dtype([(\"qint16\", np.int16, 1)])\n",
      "/home/kanishev/.local/lib/python3.6/site-packages/tensorboard/compat/tensorflow_stub/dtypes.py:544: FutureWarning: Passing (type, 1) or '1type' as a synonym of type is deprecated; in a future version of numpy, it will be understood as (type, (1,)) / '(1,)type'.\n",
      "  _np_quint16 = np.dtype([(\"quint16\", np.uint16, 1)])\n",
      "/home/kanishev/.local/lib/python3.6/site-packages/tensorboard/compat/tensorflow_stub/dtypes.py:545: FutureWarning: Passing (type, 1) or '1type' as a synonym of type is deprecated; in a future version of numpy, it will be understood as (type, (1,)) / '(1,)type'.\n",
      "  _np_qint32 = np.dtype([(\"qint32\", np.int32, 1)])\n",
      "/home/kanishev/.local/lib/python3.6/site-packages/tensorboard/compat/tensorflow_stub/dtypes.py:550: FutureWarning: Passing (type, 1) or '1type' as a synonym of type is deprecated; in a future version of numpy, it will be understood as (type, (1,)) / '(1,)type'.\n",
      "  np_resource = np.dtype([(\"resource\", np.ubyte, 1)])\n",
      "WARNING: Logging before flag parsing goes to stderr.\n",
      "W1003 22:08:14.822201 140698565379904 deprecation.py:506] From /home/kanishev/.local/lib/python3.6/site-packages/tensorflow/python/ops/init_ops.py:1251: calling VarianceScaling.__init__ (from tensorflow.python.ops.init_ops) with dtype is deprecated and will be removed in a future version.\n",
      "Instructions for updating:\n",
      "Call initializer instance with the dtype argument instead of passing it to the constructor\n"
     ]
    },
    {
     "name": "stdout",
     "output_type": "stream",
     "text": [
      "Epoch 1/5\n",
      "60000/60000 [==============================] - 2s 32us/sample - loss: 0.2986 - acc: 0.9125\n",
      "Epoch 2/5\n",
      "60000/60000 [==============================] - 2s 31us/sample - loss: 0.1436 - acc: 0.9574\n",
      "Epoch 3/5\n",
      "60000/60000 [==============================] - 2s 31us/sample - loss: 0.1093 - acc: 0.9665\n",
      "Epoch 4/5\n",
      "60000/60000 [==============================] - 2s 33us/sample - loss: 0.0894 - acc: 0.9725\n",
      "Epoch 5/5\n",
      "60000/60000 [==============================] - 2s 30us/sample - loss: 0.0769 - acc: 0.9763\n",
      "10000/10000 [==============================] - 0s 18us/sample - loss: 0.0753 - acc: 0.9765\n"
     ]
    },
    {
     "data": {
      "text/plain": [
       "[0.0753172178490553, 0.9765]"
      ]
     },
     "execution_count": 2,
     "metadata": {},
     "output_type": "execute_result"
    }
   ],
   "source": [
    "import tensorflow as tf\n",
    "mnist = tf.keras.datasets.mnist\n",
    "\n",
    "(x_train, y_train),(x_test, y_test) = mnist.load_data()\n",
    "x_train, x_test = x_train / 255.0, x_test / 255.0\n",
    "\n",
    "model = tf.keras.models.Sequential([\n",
    "  tf.keras.layers.Flatten(input_shape=(28, 28)),\n",
    "  tf.keras.layers.Dense(128, activation='relu'),\n",
    "  tf.keras.layers.Dropout(0.2),\n",
    "  tf.keras.layers.Dense(10, activation='softmax')\n",
    "])\n",
    "\n",
    "model.compile(optimizer='adam',\n",
    "              loss='sparse_categorical_crossentropy',\n",
    "              metrics=['accuracy'])\n",
    "\n",
    "model.fit(x_train, y_train, epochs=5)\n",
    "model.evaluate(x_test, y_test)"
   ]
  },
  {
   "cell_type": "code",
   "execution_count": 3,
   "metadata": {},
   "outputs": [],
   "source": [
    "_ , nrows , ncols = model.input_shape\n",
    "\n",
    "def mkbod(lst):\n",
    "    b = \"\\n\".join(map(lambda x: \"  ; \" + x, lst))\n",
    "    b = \"  {\" + b[3:] + \"\\n  }\"\n",
    "    return b\n",
    "\n",
    "code = \"type row = \\n\"\n",
    "code += mkbod([\"p{:02} : real\".format(c) for c in range(ncols)])\n",
    "code += \";;\\n\\n\"\n",
    "\n",
    "code += \"type image = \\n\"\n",
    "code += mkbod([\"r{:02} : row\".format(c) for c in range(nrows)])\n",
    "code += \";;\\n\\n\"\n",
    "\n",
    "code += \"type output = \\n\"\n",
    "code += mkbod([\"out{} : real\".format(i) for i in range(10)])\n",
    "code += \";;\\n\\n\"\n",
    "\n",
    "typedecls = code\n",
    "\n",
    "import itertools\n",
    "input_flat_vector = \\\n",
    "    [ \"x.r{:02}.p{:02}\".format(r,c) \n",
    "     for r,c in itertools.product(range(nrows), range(ncols)) ]"
   ]
  },
  {
   "cell_type": "code",
   "execution_count": 4,
   "metadata": {},
   "outputs": [
    {
     "name": "stdout",
     "output_type": "stream",
     "text": [
      "type row = \n",
      "  { p00 : real\n",
      "  ; p01 : real\n",
      "  ; p02 : real\n",
      "  ; p03 : real\n",
      "  ; p04 : real\n",
      "  ; p05 : real\n",
      "  ; p06 : real\n",
      "  ; p07 : real\n",
      "  ; p08 : real\n",
      "  ; p09 : real\n",
      "  ; p10 : real\n",
      "  ; p11 : real\n",
      "  ; p12 : real\n",
      "  ; p13 : real\n",
      "  ; p14 : real\n",
      "  ; p15 : real\n",
      "  ; p16 : real\n",
      "  ; p17 : real\n",
      "  ; p18 : real\n",
      "  ; p19 : real\n",
      "  ; p20 : real\n",
      "  ; p21 : real\n",
      "  ; p22 : real\n",
      "  ; p23 : real\n",
      "  ; p24 : real\n",
      "  ; p25 : real\n",
      "  ; p26 : real\n",
      "  ; p27 : real\n",
      "  };;\n",
      "\n",
      "type image = \n",
      "  { r00 : row\n",
      "  ; r01 : row\n",
      "  ; r02 : row\n",
      "  ; r03 : row\n",
      "  ; r04 : row\n",
      "  ; r05 : row\n",
      "  ; r06 : row\n",
      "  ; r07 : row\n",
      "  ; r08 : row\n",
      "  ; r09 : row\n",
      "  ; r10 : row\n",
      "  ; r11 : row\n",
      "  ; r12 : row\n",
      "  ; r13 : row\n",
      "  ; r14 : row\n",
      "  ; r15 : row\n",
      "  ; r16 : row\n",
      "  ; r17 : row\n",
      "  ; r18 : row\n",
      "  ; r19 : row\n",
      "  ; r20 : row\n",
      "  ; r21 : row\n",
      "  ; r22 : row\n",
      "  ; r23 : row\n",
      "  ; r24 : row\n",
      "  ; r25 : row\n",
      "  ; r26 : row\n",
      "  ; r27 : row\n",
      "  };;\n",
      "\n",
      "type output = \n",
      "  { out0 : real\n",
      "  ; out1 : real\n",
      "  ; out2 : real\n",
      "  ; out3 : real\n",
      "  ; out4 : real\n",
      "  ; out5 : real\n",
      "  ; out6 : real\n",
      "  ; out7 : real\n",
      "  ; out8 : real\n",
      "  ; out9 : real\n",
      "  };;\n",
      "\n",
      "\n"
     ]
    }
   ],
   "source": [
    "print(typedecls)"
   ]
  },
  {
   "cell_type": "code",
   "execution_count": 8,
   "metadata": {},
   "outputs": [],
   "source": [
    "# obtain weights - generate iml\n",
    "weights = model.get_weights()\n",
    "\n",
    "code = [\"let nn x = \"]\n",
    "\n",
    "# First layer\n",
    "for j in range(weights[0].shape[1]):\n",
    "    letin = []\n",
    "    for i in range(weights[0].shape[0]):\n",
    "        letin.append(\"({:.3f}) *. {}\".format(weights[0][i][j],input_flat_vector[i]))\n",
    "    letin.append(\"({:.3f})\".format(weights[1][j]))\n",
    "    letin = \"  let a{:03} = relu @@ \".format(j) + \" +. \".join(letin) + \"  in\"\n",
    "    code.append(letin)\n",
    "\n",
    "# Second layer\n",
    "for j in range(weights[2].shape[1]):\n",
    "    letin = []\n",
    "    for i in range(weights[2].shape[0]):\n",
    "        letin.append(\"({:.3f}) *. {}\".format(weights[2][i][j],\"a{:03}\".format(i)))\n",
    "    letin.append(\"({:.3f})\".format(weights[3][j]))\n",
    "    letin = \"  let out{} = \".format(j) + \" +. \".join(letin) + \"  in\"\n",
    "    code.append(letin)\n",
    "    \n",
    "# Output\n",
    "code.append(\"  { \" + \";\".join([\"out{}\".format(i) for i in range(10)]) + \" }\")\n"
   ]
  },
  {
   "cell_type": "code",
   "execution_count": 9,
   "metadata": {},
   "outputs": [],
   "source": [
    "with open(\"nn.iml\",\"w\") as f:\n",
    "    f.write(\"let relu x = Real.(if x > 0.0 then x else 0.0);;\\n\\n\")\n",
    "    \n",
    "    f.write(typedecls)\n",
    "    f.write(\"\\n\\n\")\n",
    "    f.write(\"\\n\".join(code))\n",
    "    f.write(\";;\\n\\n\")"
   ]
  },
  {
   "cell_type": "code",
   "execution_count": 10,
   "metadata": {},
   "outputs": [],
   "source": [
    "## Sample images"
   ]
  },
  {
   "cell_type": "code",
   "execution_count": null,
   "metadata": {},
   "outputs": [],
   "source": []
  },
  {
   "cell_type": "code",
   "execution_count": 17,
   "metadata": {},
   "outputs": [],
   "source": [
    "N = 10\n",
    "images = x_test[np.random.randint(x_test.shape[0],size=N)]\n",
    "flatten_model = tf.keras.models.Sequential([\n",
    "  tf.keras.layers.Flatten(input_shape=(28, 28))\n",
    "])\n",
    "images = flatten_model.predict(images)\n",
    "\n",
    "code = []\n",
    "for i in range(N):\n",
    "    images[i]"
   ]
  },
  {
   "cell_type": "code",
   "execution_count": 57,
   "metadata": {},
   "outputs": [],
   "source": [
    "code = []\n",
    "for i in np.random.randint(x_test.shape[0],size=N):\n",
    "    imcode = []\n",
    "    for j in range(x_test.shape[1]):\n",
    "        row = [\"p{:02}=({:.3f})\".format(n,p) for n,p in enumerate(x_test[i][j])]\n",
    "        row = \"  ; r{:02}={{\".format(j) + \";\".join(row) + \"}\"\n",
    "        imcode.append(row)\n",
    "    imcode = \"\\n\".join(imcode)\n",
    "    imcode = \"  {\" + imcode[3:] + \"\\n  }\\n;;\\n\\n\"\n",
    "    imcode = \"let image_{} = \\n\".format(i) + imcode \n",
    "    code.append(imcode)"
   ]
  },
  {
   "cell_type": "code",
   "execution_count": 59,
   "metadata": {},
   "outputs": [],
   "source": [
    "with open(\"samples.iml\", \"w\") as f:\n",
    "    f.write(\"\\n\".join(code))"
   ]
  },
  {
   "cell_type": "code",
   "execution_count": 62,
   "metadata": {},
   "outputs": [
    {
     "data": {
      "text/plain": [
       "784"
      ]
     },
     "execution_count": 62,
     "metadata": {},
     "output_type": "execute_result"
    }
   ],
   "source": [
    "28 * 28"
   ]
  },
  {
   "cell_type": "code",
   "execution_count": null,
   "metadata": {},
   "outputs": [],
   "source": []
  }
 ],
 "metadata": {
  "kernelspec": {
   "display_name": "Python 3",
   "language": "python",
   "name": "python3"
  },
  "language_info": {
   "codemirror_mode": {
    "name": "ipython",
    "version": 3
   },
   "file_extension": ".py",
   "mimetype": "text/x-python",
   "name": "python",
   "nbconvert_exporter": "python",
   "pygments_lexer": "ipython3",
   "version": "3.6.8"
  }
 },
 "nbformat": 4,
 "nbformat_minor": 2
}
