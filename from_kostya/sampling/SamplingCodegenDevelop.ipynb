{
 "cells": [
  {
   "cell_type": "code",
   "execution_count": 1,
   "metadata": {},
   "outputs": [
    {
     "name": "stdout",
     "output_type": "stream",
     "text": [
      "Populating the interactive namespace from numpy and matplotlib\n"
     ]
    }
   ],
   "source": [
    "%pylab inline"
   ]
  },
  {
   "cell_type": "markdown",
   "metadata": {},
   "source": [
    "## Codegenerator"
   ]
  },
  {
   "cell_type": "code",
   "execution_count": 84,
   "metadata": {},
   "outputs": [],
   "source": [
    "def a(i,j):\n",
    "    return \"arg.a{}{}\".format(i,j)\n",
    "def b(i):\n",
    "    return \"arg.b{}\".format(i)\n",
    "\n",
    "def gen_detA(ix, ii=None):\n",
    "    parity , first = 1 , True\n",
    "    for p in itertools.permutations(ix):\n",
    "        if not first:\n",
    "            print(\" + \" if parity == 1 else \" - \", end=\"\")\n",
    "        else:\n",
    "            first = False\n",
    "        parity = -parity\n",
    "        prod = (a(j,i) if i != ii else b(j) for i,j in enumerate(p))\n",
    "        print(\"*\".join(prod), end=\"\")            "
   ]
  },
  {
   "cell_type": "code",
   "execution_count": 85,
   "metadata": {},
   "outputs": [],
   "source": [
    "import itertools\n",
    "def generate(d, n):\n",
    "    if d > 9 or n > 9: raise(ValueError(\"singledigits only, sorry\"))\n",
    "    print(\"n = 0\")\n",
    "    for ii in range(d):\n",
    "        print(\"v{} = 0\".format(ii))\n",
    "    print()\n",
    "\n",
    "    for i, ix in enumerate(itertools.combinations(range(n), d)):\n",
    "        print(\"d{} = \".format(i), end='')\n",
    "        gen_detA(ix)        \n",
    "        print()\n",
    "        print(\"if d{} != 0:\".format(i))\n",
    "        for ii in range(d):\n",
    "            print(\"    x{} = (\".format(ii), end='')\n",
    "            gen_detA(ix,ii)\n",
    "            print(\") / d{}\".format(i))\n",
    "        for nn in range(n):\n",
    "            if nn in ix: continue\n",
    "            s = (\"{}*x{}\".format(a(nn,ii),ii) for ii in range(d))\n",
    "            print(\"    c{} = {} <= {}\".format(nn,\" + \".join(s), b(nn)))\n",
    "        c = (\"c{}\".format(nn) for nn in range(n) if nn not in ix)\n",
    "        print(\"    if {}:\".format(\" and \".join(c)))  \n",
    "        print(\"        n += 1\")\n",
    "        for ii in range(d):\n",
    "            print(\"        v{} += x{}\".format(ii,ii))        \n",
    "        print()\n",
    "\n",
    "    print(\"print(\\\"n =\\\", n)\".format(ii))\n",
    "    \n",
    "    for ii in range(d):\n",
    "        print(\"v{} /= n\".format(ii))\n",
    "    r = \",\".join(\"v{}\".format(ii) for ii in range(d))\n",
    "    print(\"return ({})\".format(r))"
   ]
  },
  {
   "cell_type": "code",
   "execution_count": 86,
   "metadata": {},
   "outputs": [
    {
     "name": "stdout",
     "output_type": "stream",
     "text": [
      "n = 0\n",
      "v0 = 0\n",
      "v1 = 0\n",
      "\n",
      "d0 = arg.a00*arg.a11 - arg.a10*arg.a01\n",
      "if d0 != 0:\n",
      "    x0 = (arg.b0*arg.a11 - arg.b1*arg.a01) / d0\n",
      "    x1 = (arg.a00*arg.b1 - arg.a10*arg.b0) / d0\n",
      "    c2 = arg.a20*x0 + arg.a21*x1 <= arg.b2\n",
      "    c3 = arg.a30*x0 + arg.a31*x1 <= arg.b3\n",
      "    if c2 and c3:\n",
      "        n += 1\n",
      "        v0 += x0\n",
      "        v1 += x1\n",
      "\n",
      "d1 = arg.a00*arg.a21 - arg.a20*arg.a01\n",
      "if d1 != 0:\n",
      "    x0 = (arg.b0*arg.a21 - arg.b2*arg.a01) / d1\n",
      "    x1 = (arg.a00*arg.b2 - arg.a20*arg.b0) / d1\n",
      "    c1 = arg.a10*x0 + arg.a11*x1 <= arg.b1\n",
      "    c3 = arg.a30*x0 + arg.a31*x1 <= arg.b3\n",
      "    if c1 and c3:\n",
      "        n += 1\n",
      "        v0 += x0\n",
      "        v1 += x1\n",
      "\n",
      "d2 = arg.a00*arg.a31 - arg.a30*arg.a01\n",
      "if d2 != 0:\n",
      "    x0 = (arg.b0*arg.a31 - arg.b3*arg.a01) / d2\n",
      "    x1 = (arg.a00*arg.b3 - arg.a30*arg.b0) / d2\n",
      "    c1 = arg.a10*x0 + arg.a11*x1 <= arg.b1\n",
      "    c2 = arg.a20*x0 + arg.a21*x1 <= arg.b2\n",
      "    if c1 and c2:\n",
      "        n += 1\n",
      "        v0 += x0\n",
      "        v1 += x1\n",
      "\n",
      "d3 = arg.a10*arg.a21 - arg.a20*arg.a11\n",
      "if d3 != 0:\n",
      "    x0 = (arg.b1*arg.a21 - arg.b2*arg.a11) / d3\n",
      "    x1 = (arg.a10*arg.b2 - arg.a20*arg.b1) / d3\n",
      "    c0 = arg.a00*x0 + arg.a01*x1 <= arg.b0\n",
      "    c3 = arg.a30*x0 + arg.a31*x1 <= arg.b3\n",
      "    if c0 and c3:\n",
      "        n += 1\n",
      "        v0 += x0\n",
      "        v1 += x1\n",
      "\n",
      "d4 = arg.a10*arg.a31 - arg.a30*arg.a11\n",
      "if d4 != 0:\n",
      "    x0 = (arg.b1*arg.a31 - arg.b3*arg.a11) / d4\n",
      "    x1 = (arg.a10*arg.b3 - arg.a30*arg.b1) / d4\n",
      "    c0 = arg.a00*x0 + arg.a01*x1 <= arg.b0\n",
      "    c2 = arg.a20*x0 + arg.a21*x1 <= arg.b2\n",
      "    if c0 and c2:\n",
      "        n += 1\n",
      "        v0 += x0\n",
      "        v1 += x1\n",
      "\n",
      "d5 = arg.a20*arg.a31 - arg.a30*arg.a21\n",
      "if d5 != 0:\n",
      "    x0 = (arg.b2*arg.a31 - arg.b3*arg.a21) / d5\n",
      "    x1 = (arg.a20*arg.b3 - arg.a30*arg.b2) / d5\n",
      "    c0 = arg.a00*x0 + arg.a01*x1 <= arg.b0\n",
      "    c1 = arg.a10*x0 + arg.a11*x1 <= arg.b1\n",
      "    if c0 and c1:\n",
      "        n += 1\n",
      "        v0 += x0\n",
      "        v1 += x1\n",
      "\n",
      "print(\"n =\", n)\n",
      "v0 /= n\n",
      "v1 /= n\n",
      "return (v0,v1)\n"
     ]
    }
   ],
   "source": [
    "generate(2,4)"
   ]
  },
  {
   "cell_type": "markdown",
   "metadata": {},
   "source": [
    "## Testing it"
   ]
  },
  {
   "cell_type": "code",
   "execution_count": 103,
   "metadata": {},
   "outputs": [],
   "source": [
    "%%capture t\n",
    "generate(*A.shape)"
   ]
  },
  {
   "cell_type": "code",
   "execution_count": 104,
   "metadata": {},
   "outputs": [],
   "source": [
    "# This generates a \"sample\" function\n",
    "code = [\"   \" + l for l in t.stdout.splitlines()]\n",
    "code = [\"def sample(arg):\"] + code \n",
    "code = \"\\n\".join(code)\n",
    "exec(code)\n",
    "\n",
    "def mk_sample(A, B):\n",
    "    arg = type('arg', (object,), {})()\n",
    "    for i, j in itertools.product(*map(range, A.shape)):\n",
    "        setattr(arg, \"a{}{}\".format(j,i), A[i,j])\n",
    "    for j in range(B.shape[0]):\n",
    "        setattr(arg, \"b{}\".format(j), B[j])\n",
    "    return sample(arg)"
   ]
  },
  {
   "cell_type": "code",
   "execution_count": 110,
   "metadata": {},
   "outputs": [
    {
     "name": "stdout",
     "output_type": "stream",
     "text": [
      "def sample(arg):\n",
      "   n = 0\n",
      "   v0 = 0\n",
      "   v1 = 0\n",
      "   \n",
      "   d0 = arg.a00*arg.a11 - arg.a10*arg.a01\n",
      "   if d0 != 0:\n",
      "       x0 = (arg.b0*arg.a11 - arg.b1*arg.a01) / d0\n",
      "       x1 = (arg.a00*arg.b1 - arg.a10*arg.b0) / d0\n",
      "       c2 = arg.a20*x0 + arg.a21*x1 <= arg.b2\n",
      "       c3 = arg.a30*x0 + arg.a31*x1 <= arg.b3\n",
      "       if c2 and c3:\n",
      "           n += 1\n",
      "           v0 += x0\n",
      "           v1 += x1\n",
      "   \n",
      "   d1 = arg.a00*arg.a21 - arg.a20*arg.a01\n",
      "   if d1 != 0:\n",
      "       x0 = (arg.b0*arg.a21 - arg.b2*arg.a01) / d1\n",
      "       x1 = (arg.a00*arg.b2 - arg.a20*arg.b0) / d1\n",
      "       c1 = arg.a10*x0 + arg.a11*x1 <= arg.b1\n",
      "       c3 = arg.a30*x0 + arg.a31*x1 <= arg.b3\n",
      "       if c1 and c3:\n",
      "           n += 1\n",
      "           v0 += x0\n",
      "           v1 += x1\n",
      "   \n",
      "   d2 = arg.a00*arg.a31 - arg.a30*arg.a01\n",
      "   if d2 != 0:\n",
      "       x0 = (arg.b0*arg.a31 - arg.b3*arg.a01) / d2\n",
      "       x1 = (arg.a00*arg.b3 - arg.a30*arg.b0) / d2\n",
      "       c1 = arg.a10*x0 + arg.a11*x1 <= arg.b1\n",
      "       c2 = arg.a20*x0 + arg.a21*x1 <= arg.b2\n",
      "       if c1 and c2:\n",
      "           n += 1\n",
      "           v0 += x0\n",
      "           v1 += x1\n",
      "   \n",
      "   d3 = arg.a10*arg.a21 - arg.a20*arg.a11\n",
      "   if d3 != 0:\n",
      "       x0 = (arg.b1*arg.a21 - arg.b2*arg.a11) / d3\n",
      "       x1 = (arg.a10*arg.b2 - arg.a20*arg.b1) / d3\n",
      "       c0 = arg.a00*x0 + arg.a01*x1 <= arg.b0\n",
      "       c3 = arg.a30*x0 + arg.a31*x1 <= arg.b3\n",
      "       if c0 and c3:\n",
      "           n += 1\n",
      "           v0 += x0\n",
      "           v1 += x1\n",
      "   \n",
      "   d4 = arg.a10*arg.a31 - arg.a30*arg.a11\n",
      "   if d4 != 0:\n",
      "       x0 = (arg.b1*arg.a31 - arg.b3*arg.a11) / d4\n",
      "       x1 = (arg.a10*arg.b3 - arg.a30*arg.b1) / d4\n",
      "       c0 = arg.a00*x0 + arg.a01*x1 <= arg.b0\n",
      "       c2 = arg.a20*x0 + arg.a21*x1 <= arg.b2\n",
      "       if c0 and c2:\n",
      "           n += 1\n",
      "           v0 += x0\n",
      "           v1 += x1\n",
      "   \n",
      "   d5 = arg.a20*arg.a31 - arg.a30*arg.a21\n",
      "   if d5 != 0:\n",
      "       x0 = (arg.b2*arg.a31 - arg.b3*arg.a21) / d5\n",
      "       x1 = (arg.a20*arg.b3 - arg.a30*arg.b2) / d5\n",
      "       c0 = arg.a00*x0 + arg.a01*x1 <= arg.b0\n",
      "       c1 = arg.a10*x0 + arg.a11*x1 <= arg.b1\n",
      "       if c0 and c1:\n",
      "           n += 1\n",
      "           v0 += x0\n",
      "           v1 += x1\n",
      "   \n",
      "   print(\"n =\", n)\n",
      "   v0 /= n\n",
      "   v1 /= n\n",
      "   return (v0,v1)\n"
     ]
    }
   ],
   "source": [
    "print(code)"
   ]
  },
  {
   "cell_type": "code",
   "execution_count": 113,
   "metadata": {},
   "outputs": [
    {
     "name": "stdout",
     "output_type": "stream",
     "text": [
      "[[ 1.  -1.  -1.   0.5]\n",
      " [ 0.  -0.  -1.   1. ]]\n",
      "[ 3. -2. -0.  2.]\n"
     ]
    }
   ],
   "source": [
    "from utils import parse_constraints\n",
    "constraints = \"\"\"\n",
    "  x <= 3\n",
    "  x >= 2\n",
    "  x + y >= 0\n",
    "  y + 0.5 * x <= 2 \n",
    "\"\"\"\n",
    "variables = ['x','y']\n",
    "\n",
    "A, B = parse_constraints(constraints, variables)\n",
    "A, B = np.array([A[v] for v in variables]), np.array(B)\n",
    "\n",
    "print(A)\n",
    "print(B)"
   ]
  },
  {
   "cell_type": "code",
   "execution_count": 114,
   "metadata": {},
   "outputs": [
    {
     "name": "stdout",
     "output_type": "stream",
     "text": [
      "n = 4\n"
     ]
    },
    {
     "data": {
      "text/plain": [
       "(2.5, -0.875)"
      ]
     },
     "execution_count": 114,
     "metadata": {},
     "output_type": "execute_result"
    }
   ],
   "source": [
    "mk_sample(A,B)"
   ]
  },
  {
   "cell_type": "code",
   "execution_count": null,
   "metadata": {},
   "outputs": [],
   "source": []
  },
  {
   "cell_type": "markdown",
   "metadata": {},
   "source": [
    "## Test2"
   ]
  },
  {
   "cell_type": "code",
   "execution_count": 115,
   "metadata": {},
   "outputs": [
    {
     "name": "stdout",
     "output_type": "stream",
     "text": [
      "[[ 1.  -1.  -1.   0.5 -0.   1. ]\n",
      " [ 0.  -0.  -1.   1.  -0.   1. ]\n",
      " [ 0.  -0.  -0.   0.  -1.   1. ]]\n",
      "[ 2. -0. -0.  2. -2.  5.]\n"
     ]
    }
   ],
   "source": [
    "from utils import parse_constraints\n",
    "constraints = \"\"\"\n",
    "  x <= 2\n",
    "  x >= 0\n",
    "  x + y >= 0\n",
    "  y + 0.5 * x <= 2  \n",
    "  z >= 2\n",
    "  z + y + x <= 5\n",
    "\"\"\"\n",
    "variables = ['x','y','z']\n",
    "\n",
    "A, B = parse_constraints(constraints, variables)\n",
    "A, B = np.array([A[v] for v in variables]), np.array(B)\n",
    "\n",
    "print(A)\n",
    "print(B)"
   ]
  },
  {
   "cell_type": "code",
   "execution_count": 116,
   "metadata": {},
   "outputs": [],
   "source": [
    "%%capture t\n",
    "generate(*A.shape)"
   ]
  },
  {
   "cell_type": "code",
   "execution_count": 117,
   "metadata": {},
   "outputs": [],
   "source": [
    "# This generates a \"sample\" function\n",
    "code = [\"   \" + l for l in t.stdout.splitlines()]\n",
    "code = [\"def sample(arg):\"] + code \n",
    "code = \"\\n\".join(code)\n",
    "exec(code)"
   ]
  },
  {
   "cell_type": "code",
   "execution_count": 118,
   "metadata": {},
   "outputs": [
    {
     "name": "stdout",
     "output_type": "stream",
     "text": [
      "n = 7\n"
     ]
    },
    {
     "data": {
      "text/plain": [
       "(0.6666666666666666, 1.0952380952380951, 3.0)"
      ]
     },
     "execution_count": 118,
     "metadata": {},
     "output_type": "execute_result"
    }
   ],
   "source": [
    "arg = type('arg', (object,), {})()\n",
    "for i, j in itertools.product(*map(range, A.shape)):\n",
    "    setattr(arg, \"a{}{}\".format(j,i), A[i,j])\n",
    "for j in range(B.shape[0]):\n",
    "    setattr(arg, \"b{}\".format(j), B[j])\n",
    "sample(arg)"
   ]
  },
  {
   "cell_type": "code",
   "execution_count": 34,
   "metadata": {},
   "outputs": [],
   "source": [
    "with open(\"code.py\", \"w\") as f:\n",
    "    f.write(code)"
   ]
  },
  {
   "cell_type": "code",
   "execution_count": 69,
   "metadata": {},
   "outputs": [],
   "source": [
    "with open(\"code.py\", \"r\") as f:\n",
    "    code = f.read() \n",
    "    exec(code)"
   ]
  },
  {
   "cell_type": "code",
   "execution_count": 70,
   "metadata": {},
   "outputs": [
    {
     "name": "stdout",
     "output_type": "stream",
     "text": [
      "def sample(arg):\n",
      "   n = 0\n",
      "   v0 = 0\n",
      "   v1 = 0\n",
      "   \n",
      "   d0 = arg.a00*arg.a11 - arg.a10*arg.a01\n",
      "   print(\"d0 =\",d0)\n",
      "   if d0 != 0:\n",
      "       x0 = (arg.b0*arg.a11 - arg.b0*arg.a01) / d0\n",
      "       x1 = (arg.a00*arg.b1 - arg.a10*arg.b1) / d0\n",
      "       print(\"  - d0\",x0,x1)\n",
      "       c2 = arg.a20*x0 + arg.a21*x1 <= arg.b2\n",
      "       c3 = arg.a30*x0 + arg.a31*x1 <= arg.b3\n",
      "       if c2 and c3:\n",
      "           n += 1\n",
      "           v0 += x0\n",
      "           v1 += x1\n",
      "   \n",
      "   d1 = arg.a00*arg.a21 - arg.a20*arg.a01\n",
      "   print(\"d1 =\",d1)\n",
      "   if d1 != 0:\n",
      "       x0 = (arg.b0*arg.a21 - arg.b0*arg.a01) / d1\n",
      "       x1 = (arg.a00*arg.b1 - arg.a20*arg.b1) / d1\n",
      "       print(\"  - d1\",x0,x1)\n",
      "       c1 = arg.a10*x0 + arg.a11*x1 <= arg.b1\n",
      "       c3 = arg.a30*x0 + arg.a31*x1 <= arg.b3\n",
      "       if c1 and c3:\n",
      "           n += 1\n",
      "           v0 += x0\n",
      "           v1 += x1\n",
      "   \n",
      "   d2 = arg.a00*arg.a31 - arg.a30*arg.a01\n",
      "   print(\"d2 =\",d2)\n",
      "   if d2 != 0:\n",
      "       x0 = (arg.b0*arg.a31 - arg.b0*arg.a01) / d2\n",
      "       x1 = (arg.a00*arg.b1 - arg.a30*arg.b1) / d2\n",
      "       print(\"  - d2\",x0,x1)\n",
      "       c1 = arg.a10*x0 + arg.a11*x1 <= arg.b1\n",
      "       c2 = arg.a20*x0 + arg.a21*x1 <= arg.b2\n",
      "       if c1 and c2:\n",
      "           n += 1\n",
      "           v0 += x0\n",
      "           v1 += x1\n",
      "   \n",
      "   d3 = arg.a10*arg.a21 - arg.a20*arg.a11\n",
      "   if d3 != 0:\n",
      "       x0 = (arg.b0*arg.a21 - arg.b0*arg.a11) / d3\n",
      "       x1 = (arg.a10*arg.b1 - arg.a20*arg.b1) / d3\n",
      "       print(x0,x1)\n",
      "       c0 = arg.a00*x0 + arg.a01*x1 <= arg.b0\n",
      "       c3 = arg.a30*x0 + arg.a31*x1 <= arg.b3\n",
      "       if c0 and c3:\n",
      "           n += 1\n",
      "           v0 += x0\n",
      "           v1 += x1\n",
      "   \n",
      "   d4 = arg.a10*arg.a31 - arg.a30*arg.a11\n",
      "   if d4 != 0:\n",
      "       x0 = (arg.b0*arg.a31 - arg.b0*arg.a11) / d4\n",
      "       x1 = (arg.a10*arg.b1 - arg.a30*arg.b1) / d4\n",
      "       print(x0,x1)\n",
      "       c0 = arg.a00*x0 + arg.a01*x1 <= arg.b0\n",
      "       c2 = arg.a20*x0 + arg.a21*x1 <= arg.b2\n",
      "       if c0 and c2:\n",
      "           n += 1\n",
      "           v0 += x0\n",
      "           v1 += x1\n",
      "   \n",
      "   d5 = arg.a20*arg.a31 - arg.a30*arg.a21\n",
      "   if d5 != 0:\n",
      "       x0 = (arg.b0*arg.a31 - arg.b0*arg.a21) / d5\n",
      "       x1 = (arg.a20*arg.b1 - arg.a30*arg.b1) / d5\n",
      "       print(x0,x1)\n",
      "       c0 = arg.a00*x0 + arg.a01*x1 <= arg.b0\n",
      "       c1 = arg.a10*x0 + arg.a11*x1 <= arg.b1\n",
      "       if c0 and c1:\n",
      "           n += 1\n",
      "           v0 += x0\n",
      "           v1 += x1\n",
      "   \n",
      "   print(\"n =\", n)\n",
      "   v0 /= n\n",
      "   v1 /= n\n",
      "   return (v0,v1)\n"
     ]
    }
   ],
   "source": [
    "print(code)"
   ]
  },
  {
   "cell_type": "code",
   "execution_count": null,
   "metadata": {},
   "outputs": [],
   "source": []
  }
 ],
 "metadata": {
  "kernelspec": {
   "display_name": "Python 3",
   "language": "python",
   "name": "python3"
  },
  "language_info": {
   "codemirror_mode": {
    "name": "ipython",
    "version": 3
   },
   "file_extension": ".py",
   "mimetype": "text/x-python",
   "name": "python",
   "nbconvert_exporter": "python",
   "pygments_lexer": "ipython3",
   "version": "3.8.2"
  }
 },
 "nbformat": 4,
 "nbformat_minor": 4
}
